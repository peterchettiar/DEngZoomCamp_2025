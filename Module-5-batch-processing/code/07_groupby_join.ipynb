{
 "cells": [
  {
   "cell_type": "markdown",
   "metadata": {},
   "source": [
    "## Instanciating Spark\n",
    "\n",
    "Import the PySpark library and the `SparkSession` class"
   ]
  },
  {
   "cell_type": "code",
   "execution_count": 1,
   "metadata": {},
   "outputs": [],
   "source": [
    "import pyspark\n",
    "from pyspark.sql import SparkSession"
   ]
  },
  {
   "cell_type": "code",
   "execution_count": 2,
   "metadata": {},
   "outputs": [
    {
     "name": "stderr",
     "output_type": "stream",
     "text": [
      "Setting default log level to \"WARN\".\n",
      "To adjust logging level use sc.setLogLevel(newLevel). For SparkR, use setLogLevel(newLevel).\n",
      "25/03/23 09:02:27 WARN NativeCodeLoader: Unable to load native-hadoop library for your platform... using builtin-java classes where applicable\n"
     ]
    }
   ],
   "source": [
    "spark = SparkSession.builder.master(\"local[*]\").appName(\"spark_sql_groupby_join\").getOrCreate()"
   ]
  },
  {
   "cell_type": "markdown",
   "metadata": {},
   "source": [
    "## Loading raw data into a Spark DataFrame"
   ]
  },
  {
   "cell_type": "code",
   "execution_count": 3,
   "metadata": {},
   "outputs": [
    {
     "name": "stderr",
     "output_type": "stream",
     "text": [
      "                                                                                \r"
     ]
    }
   ],
   "source": [
    "df_green = spark.read.parquet(\"data/raw/green/*/*\")"
   ]
  },
  {
   "cell_type": "code",
   "execution_count": 4,
   "metadata": {},
   "outputs": [
    {
     "name": "stderr",
     "output_type": "stream",
     "text": [
      "                                                                                \r"
     ]
    },
    {
     "name": "stdout",
     "output_type": "stream",
     "text": [
      "+--------+--------------------+---------------------+------------------+----------+------------+------------+---------------+-------------+-----------+-----+-------+----------+------------+---------+---------------------+------------+------------+---------+--------------------+\n",
      "|VendorID|lpep_pickup_datetime|lpep_dropoff_datetime|store_and_fwd_flag|RatecodeID|PULocationID|DOLocationID|passenger_count|trip_distance|fare_amount|extra|mta_tax|tip_amount|tolls_amount|ehail_fee|improvement_surcharge|total_amount|payment_type|trip_type|congestion_surcharge|\n",
      "+--------+--------------------+---------------------+------------------+----------+------------+------------+---------------+-------------+-----------+-----+-------+----------+------------+---------+---------------------+------------+------------+---------+--------------------+\n",
      "|       2| 2019-12-18 15:52:30|  2019-12-18 15:54:39|                 N|       1.0|         264|         264|            5.0|          0.0|        3.5|  0.5|    0.5|      0.01|         0.0|     NULL|                  0.3|        4.81|         1.0|      1.0|                 0.0|\n",
      "|       2| 2020-01-01 00:45:58|  2020-01-01 00:56:39|                 N|       5.0|          66|          65|            2.0|         1.28|       20.0|  0.0|    0.0|      4.06|         0.0|     NULL|                  0.3|       24.36|         1.0|      2.0|                 0.0|\n",
      "|       2| 2020-01-01 00:41:38|  2020-01-01 00:52:49|                 N|       1.0|         181|         228|            1.0|         2.47|       10.5|  0.5|    0.5|      3.54|         0.0|     NULL|                  0.3|       15.34|         1.0|      1.0|                 0.0|\n",
      "|       1| 2020-01-01 00:52:46|  2020-01-01 01:14:21|                 N|       1.0|         129|         263|            2.0|          6.3|       21.0| 3.25|    0.5|       0.0|         0.0|     NULL|                  0.3|       25.05|         2.0|      1.0|                2.75|\n",
      "|       1| 2020-01-01 00:19:57|  2020-01-01 00:30:56|                 N|       1.0|         210|         150|            1.0|          2.3|       10.0|  0.5|    0.5|       0.0|         0.0|     NULL|                  0.3|        11.3|         1.0|      1.0|                 0.0|\n",
      "|       1| 2020-01-01 00:52:33|  2020-01-01 01:09:54|                 N|       1.0|          35|          39|            1.0|          3.0|       13.5|  0.5|    0.5|       0.0|         0.0|     NULL|                  0.3|        14.8|         1.0|      1.0|                 0.0|\n",
      "|       2| 2020-01-01 00:10:18|  2020-01-01 00:22:16|                 N|       1.0|          25|          61|            1.0|         2.77|       11.0|  0.5|    0.5|       0.0|         0.0|     NULL|                  0.3|        12.3|         2.0|      1.0|                 0.0|\n",
      "|       2| 2020-01-01 01:03:14|  2020-01-01 01:29:45|                 N|       1.0|         225|          89|            1.0|         4.98|       20.5|  0.5|    0.5|       0.0|         0.0|     NULL|                  0.3|        21.8|         2.0|      1.0|                 0.0|\n",
      "|       2| 2020-01-01 00:04:11|  2020-01-01 00:09:48|                 N|       1.0|         129|         129|            1.0|         0.71|        5.5|  0.5|    0.5|       0.0|         0.0|     NULL|                  0.3|         6.8|         2.0|      1.0|                 0.0|\n",
      "|       2| 2020-01-01 00:25:52|  2020-01-01 00:32:16|                 N|       1.0|         129|          83|            1.0|          0.8|        5.5|  0.5|    0.5|       0.0|         0.0|     NULL|                  0.3|         6.8|         2.0|      1.0|                 0.0|\n",
      "|       2| 2020-01-01 00:47:32|  2020-01-01 00:59:25|                 N|       1.0|          82|         173|            1.0|         1.52|        9.5|  0.5|    0.5|       0.0|         0.0|     NULL|                  0.3|        10.8|         2.0|      1.0|                 0.0|\n",
      "|       1| 2020-01-01 00:26:40|  2020-01-01 00:40:42|                 N|       1.0|          74|          69|            1.0|          3.8|       14.0|  0.5|    0.5|       0.0|         0.0|     NULL|                  0.3|        15.3|         2.0|      1.0|                 0.0|\n",
      "|       2| 2020-01-01 00:38:47|  2020-01-01 00:46:02|                 N|       1.0|          74|          41|            1.0|         1.12|        6.5|  0.5|    0.5|       0.0|         0.0|     NULL|                  0.3|         7.8|         1.0|      1.0|                 0.0|\n",
      "|       2| 2020-01-01 00:52:18|  2020-01-01 01:09:58|                 N|       1.0|          41|         127|            1.0|         5.67|       19.0|  0.5|    0.5|       0.0|         0.0|     NULL|                  0.3|        20.3|         2.0|      1.0|                 0.0|\n",
      "|       2| 2020-01-01 00:16:01|  2020-01-01 00:26:40|                 N|       1.0|           7|         260|            1.0|         1.86|        9.5|  0.5|    0.5|       0.0|         0.0|     NULL|                  0.3|        10.8|         2.0|      1.0|                 0.0|\n",
      "|       2| 2020-01-01 00:21:15|  2020-01-01 00:28:03|                 N|       1.0|           7|           7|            1.0|         1.42|        7.0|  0.5|    0.5|       0.0|         0.0|     NULL|                  0.3|         8.3|         2.0|      1.0|                 0.0|\n",
      "|       2| 2020-01-01 00:35:42|  2020-01-01 01:02:00|                 N|       1.0|           7|         133|            1.0|        15.48|       43.0|  0.5|    0.5|      8.86|         0.0|     NULL|                  0.3|       53.16|         1.0|      1.0|                 0.0|\n",
      "|       2| 2020-01-01 00:39:51|  2020-01-01 00:42:54|                 N|       1.0|         134|          28|            1.0|         1.15|        5.5|  0.5|    0.5|       1.0|         0.0|     NULL|                  0.3|         7.8|         1.0|      1.0|                 0.0|\n",
      "|       1| 2020-01-01 00:00:21|  2020-01-01 00:10:19|                 N|       1.0|          89|          39|            1.0|          2.3|       10.0|  0.5|    0.5|       0.0|         0.0|     NULL|                  0.3|        11.3|         2.0|      1.0|                 0.0|\n",
      "|       1| 2020-01-01 00:13:59|  2020-01-01 00:21:31|                 N|       1.0|          66|          65|            3.0|          1.0|        6.5|  0.5|    0.5|       0.0|         0.0|     NULL|                  0.3|         7.8|         2.0|      1.0|                 0.0|\n",
      "+--------+--------------------+---------------------+------------------+----------+------------+------------+---------------+-------------+-----------+-----+-------+----------+------------+---------+---------------------+------------+------------+---------+--------------------+\n",
      "only showing top 20 rows\n",
      "\n"
     ]
    }
   ],
   "source": [
    "df_green.show()"
   ]
  },
  {
   "cell_type": "markdown",
   "metadata": {},
   "source": [
    "Now that we have loaded our sample data (i.e. green taxi data for 2020 and 2021) for this exercise, let's proceed with another `sql` query, but similar to the previous exercise, that involves a `groupby` statement."
   ]
  },
  {
   "cell_type": "markdown",
   "metadata": {},
   "source": [
    "## Registering a temporary table"
   ]
  },
  {
   "cell_type": "code",
   "execution_count": 5,
   "metadata": {},
   "outputs": [
    {
     "name": "stderr",
     "output_type": "stream",
     "text": [
      "/home/peter/spark/spark-3.5.5-bin-hadoop3/python/pyspark/sql/dataframe.py:329: FutureWarning: Deprecated in 2.0, use createOrReplaceTempView instead.\n",
      "  warnings.warn(\"Deprecated in 2.0, use createOrReplaceTempView instead.\", FutureWarning)\n"
     ]
    }
   ],
   "source": [
    "# Firstly, we need to always create a temp table to be queried on - sql queries cannot be queried on a spark dataframe\n",
    "df_green.registerTempTable(\"green\")"
   ]
  },
  {
   "cell_type": "markdown",
   "metadata": {},
   "source": [
    "## Group By"
   ]
  },
  {
   "cell_type": "code",
   "execution_count": 6,
   "metadata": {},
   "outputs": [],
   "source": [
    "# Secondly, we write a query that breaks down the revenue as well as the number of trips by hour by zone\n",
    "df_green_revenue = spark.sql(\n",
    "    \"\"\"\n",
    "SELECT\n",
    "    EXTRACT(HOUR FROM lpep_pickup_datetime) AS hour,\n",
    "    PULocationID AS zone,\n",
    "\n",
    "    SUM(total_amount) as revenue,\n",
    "    COUNT(1) as number_records\n",
    "FROM green\n",
    "WHERE lpep_pickup_datetime >= '2020-01-01 00:00:00'\n",
    "GROUP BY 1,2\n",
    "ORDER BY 1,2\n",
    "\"\"\"\n",
    ")"
   ]
  },
  {
   "cell_type": "code",
   "execution_count": 7,
   "metadata": {},
   "outputs": [
    {
     "name": "stderr",
     "output_type": "stream",
     "text": [
      "[Stage 2:>                                                          (0 + 4) / 4]\r"
     ]
    },
    {
     "name": "stdout",
     "output_type": "stream",
     "text": [
      "+----+----+------------------+--------------+\n",
      "|hour|zone|           revenue|number_records|\n",
      "+----+----+------------------+--------------+\n",
      "|   0|   3|            386.14|            11|\n",
      "|   0|   4|             74.31|             2|\n",
      "|   0|   5|            179.12|             3|\n",
      "|   0|   7| 23819.25999999975|          1754|\n",
      "|   0|   8|             10.79|             1|\n",
      "|   0|   9|            187.71|             5|\n",
      "|   0|  10|            805.69|            23|\n",
      "|   0|  11|            378.27|            10|\n",
      "|   0|  13|             61.55|             1|\n",
      "|   0|  14|1721.9299999999998|            36|\n",
      "|   0|  15|            289.06|             5|\n",
      "|   0|  16|484.18000000000006|            15|\n",
      "|   0|  17| 4357.509999999998|           220|\n",
      "|   0|  18|2221.7199999999993|            72|\n",
      "|   0|  19|            280.63|             8|\n",
      "|   0|  20|1001.5400000000001|            54|\n",
      "|   0|  21| 941.6099999999999|            23|\n",
      "|   0|  22|1592.9499999999998|            58|\n",
      "|   0|  23|176.10000000000002|             4|\n",
      "|   0|  24|1299.4800000000002|            79|\n",
      "+----+----+------------------+--------------+\n",
      "only showing top 20 rows\n",
      "\n"
     ]
    },
    {
     "name": "stderr",
     "output_type": "stream",
     "text": [
      "                                                                                \r"
     ]
    }
   ],
   "source": [
    "df_green_revenue.show()"
   ]
  },
  {
   "cell_type": "code",
   "execution_count": 8,
   "metadata": {},
   "outputs": [
    {
     "name": "stderr",
     "output_type": "stream",
     "text": [
      "                                                                                \r"
     ]
    }
   ],
   "source": [
    "# Lastly, lets write the output of our query into a parquet file\n",
    "df_green_revenue.repartition(2).write.parquet('data/report/revenue_green', mode='overwrite')"
   ]
  },
  {
   "cell_type": "code",
   "execution_count": 9,
   "metadata": {},
   "outputs": [],
   "source": [
    "# Repeat same steps for yellow taxi data\n",
    "\n",
    "df_yellow = spark.read.parquet('data/raw/yellow/*/*')"
   ]
  },
  {
   "cell_type": "code",
   "execution_count": 10,
   "metadata": {},
   "outputs": [
    {
     "name": "stdout",
     "output_type": "stream",
     "text": [
      "+--------+--------------------+---------------------+---------------+-------------+----------+------------------+------------+------------+------------+-----------+-----+-------+----------+------------+---------------------+------------+--------------------+-----------+\n",
      "|VendorID|tpep_pickup_datetime|tpep_dropoff_datetime|passenger_count|trip_distance|RatecodeID|store_and_fwd_flag|PULocationID|DOLocationID|payment_type|fare_amount|extra|mta_tax|tip_amount|tolls_amount|improvement_surcharge|total_amount|congestion_surcharge|airport_fee|\n",
      "+--------+--------------------+---------------------+---------------+-------------+----------+------------------+------------+------------+------------+-----------+-----+-------+----------+------------+---------------------+------------+--------------------+-----------+\n",
      "|       1| 2020-01-01 00:28:15|  2020-01-01 00:33:03|            1.0|          1.2|       1.0|                 N|         238|         239|           1|        6.0|  3.0|    0.5|      1.47|         0.0|                  0.3|       11.27|                 2.5|       NULL|\n",
      "|       1| 2020-01-01 00:35:39|  2020-01-01 00:43:04|            1.0|          1.2|       1.0|                 N|         239|         238|           1|        7.0|  3.0|    0.5|       1.5|         0.0|                  0.3|        12.3|                 2.5|       NULL|\n",
      "|       1| 2020-01-01 00:47:41|  2020-01-01 00:53:52|            1.0|          0.6|       1.0|                 N|         238|         238|           1|        6.0|  3.0|    0.5|       1.0|         0.0|                  0.3|        10.8|                 2.5|       NULL|\n",
      "|       1| 2020-01-01 00:55:23|  2020-01-01 01:00:14|            1.0|          0.8|       1.0|                 N|         238|         151|           1|        5.5|  0.5|    0.5|      1.36|         0.0|                  0.3|        8.16|                 0.0|       NULL|\n",
      "|       2| 2020-01-01 00:01:58|  2020-01-01 00:04:16|            1.0|          0.0|       1.0|                 N|         193|         193|           2|        3.5|  0.5|    0.5|       0.0|         0.0|                  0.3|         4.8|                 0.0|       NULL|\n",
      "|       2| 2020-01-01 00:09:44|  2020-01-01 00:10:37|            1.0|         0.03|       1.0|                 N|           7|         193|           2|        2.5|  0.5|    0.5|       0.0|         0.0|                  0.3|         3.8|                 0.0|       NULL|\n",
      "|       2| 2020-01-01 00:39:25|  2020-01-01 00:39:29|            1.0|          0.0|       1.0|                 N|         193|         193|           1|        2.5|  0.5|    0.5|      0.01|         0.0|                  0.3|        3.81|                 0.0|       NULL|\n",
      "|       2| 2019-12-18 15:27:49|  2019-12-18 15:28:59|            1.0|          0.0|       5.0|                 N|         193|         193|           1|       0.01|  0.0|    0.0|       0.0|         0.0|                  0.3|        2.81|                 2.5|       NULL|\n",
      "|       2| 2019-12-18 15:30:35|  2019-12-18 15:31:35|            4.0|          0.0|       1.0|                 N|         193|         193|           1|        2.5|  0.5|    0.5|       0.0|         0.0|                  0.3|         6.3|                 2.5|       NULL|\n",
      "|       1| 2020-01-01 00:29:01|  2020-01-01 00:40:28|            2.0|          0.7|       1.0|                 N|         246|          48|           1|        8.0|  3.0|    0.5|      2.35|         0.0|                  0.3|       14.15|                 2.5|       NULL|\n",
      "|       1| 2020-01-01 00:55:11|  2020-01-01 01:12:03|            2.0|          2.4|       1.0|                 N|         246|          79|           1|       12.0|  3.0|    0.5|      1.75|         0.0|                  0.3|       17.55|                 2.5|       NULL|\n",
      "|       1| 2020-01-01 00:37:15|  2020-01-01 00:51:41|            1.0|          0.8|       1.0|                 N|         163|         161|           2|        9.5|  3.0|    0.5|       0.0|         0.0|                  0.3|        13.3|                 2.5|       NULL|\n",
      "|       1| 2020-01-01 00:56:27|  2020-01-01 01:21:44|            1.0|          3.3|       1.0|                 N|         161|         144|           1|       17.0|  3.0|    0.5|      4.15|         0.0|                  0.3|       24.95|                 2.5|       NULL|\n",
      "|       2| 2020-01-01 00:21:54|  2020-01-01 00:27:31|            1.0|         1.07|       1.0|                 N|          43|         239|           1|        6.0|  0.5|    0.5|      1.96|         0.0|                  0.3|       11.76|                 2.5|       NULL|\n",
      "|       2| 2020-01-01 00:38:01|  2020-01-01 01:15:21|            1.0|         7.76|       1.0|                 N|         143|          25|           1|       28.5|  0.5|    0.5|      4.84|         0.0|                  0.3|       37.14|                 2.5|       NULL|\n",
      "|       1| 2020-01-01 00:15:35|  2020-01-01 00:27:06|            3.0|          1.6|       1.0|                 N|         211|         234|           2|        9.0|  3.0|    0.5|       0.0|         0.0|                  0.3|        12.8|                 2.5|       NULL|\n",
      "|       1| 2020-01-01 00:41:20|  2020-01-01 00:44:22|            1.0|          0.5|       1.0|                 Y|         234|          90|           1|        4.0|  3.0|    0.5|       1.0|         0.0|                  0.3|         8.8|                 2.5|       NULL|\n",
      "|       1| 2020-01-01 00:56:38|  2020-01-01 01:13:34|            1.0|          1.7|       1.0|                 N|         246|         142|           2|       11.5|  3.0|    0.5|       0.0|         0.0|                  0.3|        15.3|                 2.5|       NULL|\n",
      "|       2| 2020-01-01 00:08:21|  2020-01-01 00:25:29|            1.0|         8.45|       1.0|                 N|         138|         216|           2|       24.5|  0.5|    0.5|       0.0|         0.0|                  0.3|        25.8|                 0.0|       NULL|\n",
      "|       1| 2020-01-01 00:25:39|  2020-01-01 00:27:05|            1.0|          0.0|       1.0|                 N|         170|         162|           4|        3.0|  3.0|    0.5|       0.0|         0.0|                  0.3|         6.8|                 2.5|       NULL|\n",
      "+--------+--------------------+---------------------+---------------+-------------+----------+------------------+------------+------------+------------+-----------+-----+-------+----------+------------+---------------------+------------+--------------------+-----------+\n",
      "only showing top 20 rows\n",
      "\n"
     ]
    }
   ],
   "source": [
    "df_yellow.show()"
   ]
  },
  {
   "cell_type": "code",
   "execution_count": 11,
   "metadata": {},
   "outputs": [],
   "source": [
    "df_yellow.registerTempTable(\"yellow\")"
   ]
  },
  {
   "cell_type": "code",
   "execution_count": 12,
   "metadata": {},
   "outputs": [],
   "source": [
    "df_yellow_revenue = spark.sql(\n",
    "    \"\"\"\n",
    "SELECT\n",
    "    EXTRACT(HOUR FROM tpep_pickup_datetime) AS hour,\n",
    "    PULocationID AS zone,\n",
    "\n",
    "    SUM(total_amount) as revenue,\n",
    "    COUNT(1) as number_records\n",
    "FROM yellow\n",
    "WHERE tpep_pickup_datetime >= '2020-01-01 00:00:00'\n",
    "GROUP BY 1,2\n",
    "ORDER BY 1,2\n",
    "\"\"\")"
   ]
  },
  {
   "cell_type": "code",
   "execution_count": 13,
   "metadata": {},
   "outputs": [
    {
     "name": "stderr",
     "output_type": "stream",
     "text": [
      "                                                                                \r"
     ]
    }
   ],
   "source": [
    "# Lastly, lets write the output of our query into a parquet file\n",
    "df_yellow_revenue.repartition(2).write.parquet('data/report/revenue_yellow', mode='overwrite')"
   ]
  },
  {
   "cell_type": "markdown",
   "metadata": {},
   "source": [
    "## Joining two large tables"
   ]
  },
  {
   "cell_type": "code",
   "execution_count": 14,
   "metadata": {},
   "outputs": [
    {
     "name": "stderr",
     "output_type": "stream",
     "text": [
      "                                                                                \r"
     ]
    },
    {
     "data": {
      "text/plain": [
       "[Row(hour=23, zone=256, revenue=11064.33000000002, number_records=542),\n",
       " Row(hour=23, zone=257, revenue=387.83000000000004, number_records=17),\n",
       " Row(hour=23, zone=258, revenue=591.5699999999999, number_records=19),\n",
       " Row(hour=23, zone=259, revenue=773.63, number_records=25),\n",
       " Row(hour=23, zone=260, revenue=16333.959999999955, number_records=1180),\n",
       " Row(hour=23, zone=261, revenue=43.0, number_records=1),\n",
       " Row(hour=23, zone=262, revenue=299.31, number_records=11),\n",
       " Row(hour=23, zone=263, revenue=758.98, number_records=38),\n",
       " Row(hour=23, zone=264, revenue=2582.669999999999, number_records=147),\n",
       " Row(hour=23, zone=265, revenue=3716.8499999999995, number_records=77)]"
      ]
     },
     "execution_count": 14,
     "metadata": {},
     "output_type": "execute_result"
    }
   ],
   "source": [
    "df_green_revenue.tail(10)"
   ]
  },
  {
   "cell_type": "code",
   "execution_count": 15,
   "metadata": {},
   "outputs": [],
   "source": [
    "# Changing column names before joining with yellow table\n",
    "df_green_revenue_tmp = df_green_revenue.withColumnsRenamed(\n",
    "    {\"revenue\":\"green_revenue\", \"number_records\": \"green_number_records\"})"
   ]
  },
  {
   "cell_type": "code",
   "execution_count": 16,
   "metadata": {},
   "outputs": [
    {
     "name": "stderr",
     "output_type": "stream",
     "text": [
      "[Stage 39:===========================================>              (3 + 1) / 4]\r"
     ]
    },
    {
     "name": "stdout",
     "output_type": "stream",
     "text": [
      "+----+----+------------------+--------------------+\n",
      "|hour|zone|     green_revenue|green_number_records|\n",
      "+----+----+------------------+--------------------+\n",
      "|   0|   3|            386.14|                  11|\n",
      "|   0|   4|             74.31|                   2|\n",
      "|   0|   5|            179.12|                   3|\n",
      "|   0|   7| 23819.25999999975|                1754|\n",
      "|   0|   8|             10.79|                   1|\n",
      "|   0|   9|            187.71|                   5|\n",
      "|   0|  10|            805.69|                  23|\n",
      "|   0|  11|            378.27|                  10|\n",
      "|   0|  13|             61.55|                   1|\n",
      "|   0|  14|1721.9299999999998|                  36|\n",
      "|   0|  15|            289.06|                   5|\n",
      "|   0|  16|484.18000000000006|                  15|\n",
      "|   0|  17| 4357.509999999998|                 220|\n",
      "|   0|  18|2221.7199999999993|                  72|\n",
      "|   0|  19|            280.63|                   8|\n",
      "|   0|  20|1001.5400000000001|                  54|\n",
      "|   0|  21| 941.6099999999999|                  23|\n",
      "|   0|  22|1592.9499999999998|                  58|\n",
      "|   0|  23|176.10000000000002|                   4|\n",
      "|   0|  24|1299.4800000000002|                  79|\n",
      "+----+----+------------------+--------------------+\n",
      "only showing top 20 rows\n",
      "\n"
     ]
    },
    {
     "name": "stderr",
     "output_type": "stream",
     "text": [
      "                                                                                \r"
     ]
    }
   ],
   "source": [
    "df_green_revenue_tmp.show()"
   ]
  },
  {
   "cell_type": "code",
   "execution_count": 17,
   "metadata": {},
   "outputs": [
    {
     "name": "stderr",
     "output_type": "stream",
     "text": [
      "[Stage 42:===================================================>      (8 + 1) / 9]\r"
     ]
    },
    {
     "name": "stdout",
     "output_type": "stream",
     "text": [
      "+----+----+------------------+---------------------+\n",
      "|hour|zone|    yellow_revenue|yellow_number_records|\n",
      "+----+----+------------------+---------------------+\n",
      "|   0|   1|1648.3899999999999|                   17|\n",
      "|   0|   3|           1619.92|                   32|\n",
      "|   0|   4|  95819.5299999997|                 5077|\n",
      "|   0|   5|            386.54|                    5|\n",
      "|   0|   6|            571.27|                    8|\n",
      "|   0|   7| 32001.82000000005|                 1959|\n",
      "|   0|   8|332.08000000000004|                   10|\n",
      "|   0|   9|            668.61|                   15|\n",
      "|   0|  10|19588.309999999994|                  371|\n",
      "|   0|  11| 776.5699999999999|                   19|\n",
      "|   0|  12|3124.8500000000004|                  121|\n",
      "|   0|  13|58995.669999999955|                 2527|\n",
      "|   0|  14|2967.6699999999996|                   88|\n",
      "|   0|  15|            436.25|                   11|\n",
      "|   0|  16|1016.6800000000001|                   29|\n",
      "|   0|  17|13222.679999999997|                  542|\n",
      "|   0|  18|           2565.89|                   86|\n",
      "|   0|  19|1388.6399999999999|                   36|\n",
      "|   0|  20|1825.1200000000001|                   66|\n",
      "|   0|  21|            852.74|                   20|\n",
      "+----+----+------------------+---------------------+\n",
      "only showing top 20 rows\n",
      "\n"
     ]
    },
    {
     "name": "stderr",
     "output_type": "stream",
     "text": [
      "                                                                                \r"
     ]
    }
   ],
   "source": [
    "# Repeating same steps for yellow revenue table\n",
    "df_yellow_revenue_tmp = df_yellow_revenue.withColumnsRenamed(\n",
    "    {\"revenue\":\"yellow_revenue\", \"number_records\": \"yellow_number_records\"}\n",
    ")\n",
    "\n",
    "df_yellow_revenue_tmp.show()"
   ]
  },
  {
   "cell_type": "code",
   "execution_count": 18,
   "metadata": {},
   "outputs": [
    {
     "name": "stderr",
     "output_type": "stream",
     "text": [
      "[Stage 46:===================================================>      (8 + 1) / 9]\r"
     ]
    },
    {
     "name": "stdout",
     "output_type": "stream",
     "text": [
      "+----+----+------------------+--------------------+------------------+---------------------+\n",
      "|hour|zone|     green_revenue|green_number_records|    yellow_revenue|yellow_number_records|\n",
      "+----+----+------------------+--------------------+------------------+---------------------+\n",
      "|   0|   1|              NULL|                NULL|1648.3899999999999|                   17|\n",
      "|   0|   3|            386.14|                  11|           1619.92|                   32|\n",
      "|   0|   4|             74.31|                   2|  95819.5299999997|                 5077|\n",
      "|   0|   5|            179.12|                   3|            386.54|                    5|\n",
      "|   0|   6|              NULL|                NULL|            571.27|                    8|\n",
      "|   0|   7| 23819.25999999975|                1754| 32001.82000000005|                 1959|\n",
      "|   0|   8|             10.79|                   1|332.08000000000004|                   10|\n",
      "|   0|   9|            187.71|                   5|            668.61|                   15|\n",
      "|   0|  10|            805.69|                  23|19588.309999999994|                  371|\n",
      "|   0|  11|            378.27|                  10| 776.5699999999999|                   19|\n",
      "|   0|  12|              NULL|                NULL|3124.8500000000004|                  121|\n",
      "|   0|  13|             61.55|                   1|58995.669999999955|                 2527|\n",
      "|   0|  14|1721.9299999999998|                  36|2967.6699999999996|                   88|\n",
      "|   0|  15|            289.06|                   5|            436.25|                   11|\n",
      "|   0|  16|484.18000000000006|                  15|1016.6800000000001|                   29|\n",
      "|   0|  17| 4357.509999999998|                 220|13222.679999999997|                  542|\n",
      "|   0|  18|2221.7199999999993|                  72|           2565.89|                   86|\n",
      "|   0|  19|            280.63|                   8|1388.6399999999999|                   36|\n",
      "|   0|  20|1001.5400000000001|                  54|1825.1200000000001|                   66|\n",
      "|   0|  21| 941.6099999999999|                  23|            852.74|                   20|\n",
      "+----+----+------------------+--------------------+------------------+---------------------+\n",
      "only showing top 20 rows\n",
      "\n"
     ]
    },
    {
     "name": "stderr",
     "output_type": "stream",
     "text": [
      "                                                                                \r"
     ]
    }
   ],
   "source": [
    "df_green_revenue_tmp.join(df_yellow_revenue_tmp, on=[\"hour\",\"zone\"], how='outer').show()"
   ]
  },
  {
   "cell_type": "code",
   "execution_count": 19,
   "metadata": {},
   "outputs": [],
   "source": [
    "df_merged = df_green_revenue_tmp.join(df_yellow_revenue_tmp, on=[\"hour\",\"zone\"], how='outer')\n"
   ]
  },
  {
   "cell_type": "code",
   "execution_count": 20,
   "metadata": {},
   "outputs": [
    {
     "data": {
      "text/plain": [
       "DataFrame[hour: int, zone: bigint, green_revenue: double, green_number_records: bigint, yellow_revenue: double, yellow_number_records: bigint]"
      ]
     },
     "execution_count": 20,
     "metadata": {},
     "output_type": "execute_result"
    }
   ],
   "source": [
    "# Viewing the data type \n",
    "df_merged"
   ]
  },
  {
   "cell_type": "code",
   "execution_count": 21,
   "metadata": {},
   "outputs": [
    {
     "name": "stderr",
     "output_type": "stream",
     "text": [
      "[Stage 51:===================================================>      (8 + 1) / 9]\r"
     ]
    },
    {
     "name": "stdout",
     "output_type": "stream",
     "text": [
      "+----+----+------------------+--------------------+------------------+---------------------+\n",
      "|hour|zone|     green_revenue|green_number_records|    yellow_revenue|yellow_number_records|\n",
      "+----+----+------------------+--------------------+------------------+---------------------+\n",
      "|   0|   1|              NULL|                NULL|1648.3899999999999|                   17|\n",
      "|   0|   3|            386.14|                  11|           1619.92|                   32|\n",
      "|   0|   4|             74.31|                   2|  95819.5299999997|                 5077|\n",
      "|   0|   5|            179.12|                   3|            386.54|                    5|\n",
      "|   0|   6|              NULL|                NULL|            571.27|                    8|\n",
      "|   0|   7| 23819.25999999975|                1754| 32001.82000000005|                 1959|\n",
      "|   0|   8|             10.79|                   1|332.08000000000004|                   10|\n",
      "|   0|   9|            187.71|                   5|            668.61|                   15|\n",
      "|   0|  10|            805.69|                  23|19588.309999999994|                  371|\n",
      "|   0|  11|            378.27|                  10| 776.5699999999999|                   19|\n",
      "|   0|  12|              NULL|                NULL|3124.8500000000004|                  121|\n",
      "|   0|  13|             61.55|                   1|58995.669999999955|                 2527|\n",
      "|   0|  14|1721.9299999999998|                  36|2967.6699999999996|                   88|\n",
      "|   0|  15|            289.06|                   5|            436.25|                   11|\n",
      "|   0|  16|484.18000000000006|                  15|1016.6800000000001|                   29|\n",
      "|   0|  17| 4357.509999999998|                 220|13222.679999999997|                  542|\n",
      "|   0|  18|2221.7199999999993|                  72|           2565.89|                   86|\n",
      "|   0|  19|            280.63|                   8|1388.6399999999999|                   36|\n",
      "|   0|  20|1001.5400000000001|                  54|1825.1200000000001|                   66|\n",
      "|   0|  21| 941.6099999999999|                  23|            852.74|                   20|\n",
      "+----+----+------------------+--------------------+------------------+---------------------+\n",
      "only showing top 20 rows\n",
      "\n"
     ]
    },
    {
     "name": "stderr",
     "output_type": "stream",
     "text": [
      "                                                                                \r"
     ]
    }
   ],
   "source": [
    "df_merged.show()"
   ]
  },
  {
   "cell_type": "code",
   "execution_count": 22,
   "metadata": {},
   "outputs": [
    {
     "name": "stderr",
     "output_type": "stream",
     "text": [
      "                                                                                \r"
     ]
    }
   ],
   "source": [
    "# lets save this output\n",
    "df_merged.write.parquet(\"data/report/revenue/total\", mode='overwrite')"
   ]
  },
  {
   "cell_type": "markdown",
   "metadata": {},
   "source": [
    "## Joining a large table and a small table"
   ]
  },
  {
   "cell_type": "code",
   "execution_count": 23,
   "metadata": {},
   "outputs": [],
   "source": [
    "# Loading zone table as the small table for this exercise\n",
    "df_zones = spark.read.parquet(\"zones/*\")"
   ]
  },
  {
   "cell_type": "code",
   "execution_count": 24,
   "metadata": {},
   "outputs": [
    {
     "name": "stdout",
     "output_type": "stream",
     "text": [
      "+----------+-------------+--------------------+------------+\n",
      "|LocationID|      Borough|                Zone|service_zone|\n",
      "+----------+-------------+--------------------+------------+\n",
      "|         1|          EWR|      Newark Airport|         EWR|\n",
      "|         2|       Queens|         Jamaica Bay|   Boro Zone|\n",
      "|         3|        Bronx|Allerton/Pelham G...|   Boro Zone|\n",
      "|         4|    Manhattan|       Alphabet City| Yellow Zone|\n",
      "|         5|Staten Island|       Arden Heights|   Boro Zone|\n",
      "|         6|Staten Island|Arrochar/Fort Wad...|   Boro Zone|\n",
      "|         7|       Queens|             Astoria|   Boro Zone|\n",
      "|         8|       Queens|        Astoria Park|   Boro Zone|\n",
      "|         9|       Queens|          Auburndale|   Boro Zone|\n",
      "|        10|       Queens|        Baisley Park|   Boro Zone|\n",
      "|        11|     Brooklyn|          Bath Beach|   Boro Zone|\n",
      "|        12|    Manhattan|        Battery Park| Yellow Zone|\n",
      "|        13|    Manhattan|   Battery Park City| Yellow Zone|\n",
      "|        14|     Brooklyn|           Bay Ridge|   Boro Zone|\n",
      "|        15|       Queens|Bay Terrace/Fort ...|   Boro Zone|\n",
      "|        16|       Queens|             Bayside|   Boro Zone|\n",
      "|        17|     Brooklyn|             Bedford|   Boro Zone|\n",
      "|        18|        Bronx|        Bedford Park|   Boro Zone|\n",
      "|        19|       Queens|           Bellerose|   Boro Zone|\n",
      "|        20|        Bronx|             Belmont|   Boro Zone|\n",
      "+----------+-------------+--------------------+------------+\n",
      "only showing top 20 rows\n",
      "\n"
     ]
    }
   ],
   "source": [
    "df_zones.show()"
   ]
  },
  {
   "cell_type": "code",
   "execution_count": 25,
   "metadata": {},
   "outputs": [],
   "source": [
    "# Joining both tables\n",
    "df_result = df_merged.join(\n",
    "    df_zones, df_merged.zone == df_zones.LocationID\n",
    "    ).drop(\"LocationID\",\"zone\").withColumnsRenamed(\n",
    "    {\"Borough\":\"pickup_Borough\", \"service_zone\": \"pickup_service_zone\"}\n",
    ")"
   ]
  },
  {
   "cell_type": "code",
   "execution_count": 26,
   "metadata": {},
   "outputs": [
    {
     "name": "stderr",
     "output_type": "stream",
     "text": [
      "[Stage 64:===================================================>      (8 + 1) / 9]\r"
     ]
    },
    {
     "name": "stdout",
     "output_type": "stream",
     "text": [
      "+----+------------------+--------------------+------------------+---------------------+--------------+-------------------+\n",
      "|hour|     green_revenue|green_number_records|    yellow_revenue|yellow_number_records|pickup_Borough|pickup_service_zone|\n",
      "+----+------------------+--------------------+------------------+---------------------+--------------+-------------------+\n",
      "|   0|              NULL|                NULL|1648.3899999999999|                   17|           EWR|                EWR|\n",
      "|   0|            386.14|                  11|           1619.92|                   32|         Bronx|          Boro Zone|\n",
      "|   0|             74.31|                   2|  95819.5299999997|                 5077|     Manhattan|        Yellow Zone|\n",
      "|   0|            179.12|                   3|            386.54|                    5| Staten Island|          Boro Zone|\n",
      "|   0|              NULL|                NULL|            571.27|                    8| Staten Island|          Boro Zone|\n",
      "|   0| 23819.25999999975|                1754| 32001.82000000005|                 1959|        Queens|          Boro Zone|\n",
      "|   0|             10.79|                   1|332.08000000000004|                   10|        Queens|          Boro Zone|\n",
      "|   0|            187.71|                   5|            668.61|                   15|        Queens|          Boro Zone|\n",
      "|   0|            805.69|                  23|19588.309999999994|                  371|        Queens|          Boro Zone|\n",
      "|   0|            378.27|                  10| 776.5699999999999|                   19|      Brooklyn|          Boro Zone|\n",
      "|   0|              NULL|                NULL|3124.8500000000004|                  121|     Manhattan|        Yellow Zone|\n",
      "|   0|             61.55|                   1|58995.669999999955|                 2527|     Manhattan|        Yellow Zone|\n",
      "|   0|1721.9299999999998|                  36|2967.6699999999996|                   88|      Brooklyn|          Boro Zone|\n",
      "|   0|            289.06|                   5|            436.25|                   11|        Queens|          Boro Zone|\n",
      "|   0|484.18000000000006|                  15|1016.6800000000001|                   29|        Queens|          Boro Zone|\n",
      "|   0| 4357.509999999998|                 220|13222.679999999997|                  542|      Brooklyn|          Boro Zone|\n",
      "|   0|2221.7199999999993|                  72|           2565.89|                   86|         Bronx|          Boro Zone|\n",
      "|   0|            280.63|                   8|1388.6399999999999|                   36|        Queens|          Boro Zone|\n",
      "|   0|1001.5400000000001|                  54|1825.1200000000001|                   66|         Bronx|          Boro Zone|\n",
      "|   0| 941.6099999999999|                  23|            852.74|                   20|      Brooklyn|          Boro Zone|\n",
      "+----+------------------+--------------------+------------------+---------------------+--------------+-------------------+\n",
      "only showing top 20 rows\n",
      "\n"
     ]
    },
    {
     "name": "stderr",
     "output_type": "stream",
     "text": [
      "                                                                                \r"
     ]
    }
   ],
   "source": [
    "df_result.show()"
   ]
  },
  {
   "cell_type": "code",
   "execution_count": 27,
   "metadata": {},
   "outputs": [
    {
     "name": "stderr",
     "output_type": "stream",
     "text": [
      "                                                                                \r"
     ]
    }
   ],
   "source": [
    "# Now to wriite it out as a .parquet file\n",
    "df_result.write.parquet('tmp/revenue-zones', mode='overwrite')"
   ]
  },
  {
   "cell_type": "code",
   "execution_count": null,
   "metadata": {},
   "outputs": [],
   "source": []
  }
 ],
 "metadata": {
  "kernelspec": {
   "display_name": "base",
   "language": "python",
   "name": "python3"
  },
  "language_info": {
   "codemirror_mode": {
    "name": "ipython",
    "version": 3
   },
   "file_extension": ".py",
   "mimetype": "text/x-python",
   "name": "python",
   "nbconvert_exporter": "python",
   "pygments_lexer": "ipython3",
   "version": "3.11.5"
  }
 },
 "nbformat": 4,
 "nbformat_minor": 2
}
