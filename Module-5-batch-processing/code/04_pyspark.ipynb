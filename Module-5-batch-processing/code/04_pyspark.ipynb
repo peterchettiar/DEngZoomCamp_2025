{
 "cells": [
  {
   "cell_type": "markdown",
   "id": "54952c8c-5420-481b-a26b-d50a19410bda",
   "metadata": {},
   "source": [
    "## Instanciating Spark\n",
    "\n",
    "Import the PySpark library and the `SparkSession` class\n"
   ]
  },
  {
   "cell_type": "code",
   "execution_count": 1,
   "id": "f319d016-439a-4d4f-91a0-c76b168c2783",
   "metadata": {},
   "outputs": [],
   "source": [
    "import pyspark\n",
    "from pyspark.sql import SparkSession\n",
    "import warnings\n",
    "\n",
    "warnings.filterwarnings('ignore')"
   ]
  },
  {
   "cell_type": "code",
   "execution_count": 2,
   "id": "9f876c96-89c8-4cee-bedf-4d41222bd09f",
   "metadata": {},
   "outputs": [
    {
     "name": "stderr",
     "output_type": "stream",
     "text": [
      "Setting default log level to \"WARN\".\n",
      "To adjust logging level use sc.setLogLevel(newLevel). For SparkR, use setLogLevel(newLevel).\n",
      "25/03/13 14:33:43 WARN NativeCodeLoader: Unable to load native-hadoop library for your platform... using builtin-java classes where applicable\n"
     ]
    }
   ],
   "source": [
    "spark = SparkSession.builder.master(\"local[*]\").appName('demo').getOrCreate()"
   ]
  },
  {
   "cell_type": "markdown",
   "id": "e8cdfb1f-c5fe-46df-969c-5243b4d04ef5",
   "metadata": {},
   "source": [
    "## Read data\n",
    "\n",
    "Download some large data"
   ]
  },
  {
   "cell_type": "code",
   "execution_count": 3,
   "id": "ae1a6875-1e41-4de5-8ac3-975f7f2ce5f5",
   "metadata": {},
   "outputs": [
    {
     "name": "stdout",
     "output_type": "stream",
     "text": [
      "--2025-03-13 14:34:22--  https://d37ci6vzurychx.cloudfront.net/trip-data/fhvhv_tripdata_2021-01.parquet\n",
      "Resolving d37ci6vzurychx.cloudfront.net (d37ci6vzurychx.cloudfront.net)... 3.164.82.197, 3.164.82.160, 3.164.82.112, ...\n",
      "Connecting to d37ci6vzurychx.cloudfront.net (d37ci6vzurychx.cloudfront.net)|3.164.82.197|:443... connected.\n",
      "HTTP request sent, awaiting response... 200 OK\n",
      "Length: 308924937 (295M) [application/x-www-form-urlencoded]\n",
      "Saving to: ‘fhvhv_tripdata_2021-01.parquet’\n",
      "\n",
      "fhvhv_tripdata_2021 100%[===================>] 294.61M  10.7MB/s    in 30s     \n",
      "\n",
      "2025-03-13 14:34:53 (9.86 MB/s) - ‘fhvhv_tripdata_2021-01.parquet’ saved [308924937/308924937]\n",
      "\n"
     ]
    }
   ],
   "source": [
    "!wget https://d37ci6vzurychx.cloudfront.net/trip-data/fhvhv_tripdata_2021-01.parquet"
   ]
  },
  {
   "cell_type": "code",
   "execution_count": 4,
   "id": "c13319e8-1222-434a-8c4b-2853385212ed",
   "metadata": {},
   "outputs": [
    {
     "name": "stderr",
     "output_type": "stream",
     "text": [
      "                                                                                \r"
     ]
    },
    {
     "name": "stdout",
     "output_type": "stream",
     "text": [
      "+-----------------+--------------------+--------------------+-------------------+-------------------+-------------------+-------------------+------------+------------+----------+---------+-------------------+-----+----+---------+--------------------+-----------+----+----------+-------------------+-----------------+------------------+----------------+--------------+\n",
      "|hvfhs_license_num|dispatching_base_num|originating_base_num|   request_datetime|  on_scene_datetime|    pickup_datetime|   dropoff_datetime|PULocationID|DOLocationID|trip_miles|trip_time|base_passenger_fare|tolls| bcf|sales_tax|congestion_surcharge|airport_fee|tips|driver_pay|shared_request_flag|shared_match_flag|access_a_ride_flag|wav_request_flag|wav_match_flag|\n",
      "+-----------------+--------------------+--------------------+-------------------+-------------------+-------------------+-------------------+------------+------------+----------+---------+-------------------+-----+----+---------+--------------------+-----------+----+----------+-------------------+-----------------+------------------+----------------+--------------+\n",
      "|           HV0003|              B02682|              B02682|2021-01-01 00:28:09|2021-01-01 00:31:42|2021-01-01 00:33:44|2021-01-01 00:49:07|         230|         166|      5.26|      923|              22.28|  0.0|0.67|     1.98|                2.75|       NULL| 0.0|     14.99|                  N|                N|                  |               N|             N|\n",
      "|           HV0003|              B02682|              B02682|2021-01-01 00:45:56|2021-01-01 00:55:19|2021-01-01 00:55:19|2021-01-01 01:18:21|         152|         167|      3.65|     1382|              18.36|  0.0|0.55|     1.63|                 0.0|       NULL| 0.0|     17.06|                  N|                N|                  |               N|             N|\n",
      "|           HV0003|              B02764|              B02764|2021-01-01 00:21:15|2021-01-01 00:22:41|2021-01-01 00:23:56|2021-01-01 00:38:05|         233|         142|      3.51|      849|              14.05|  0.0|0.48|     1.25|                2.75|       NULL|0.94|     12.98|                  N|                N|                  |               N|             N|\n",
      "|           HV0003|              B02764|              B02764|2021-01-01 00:39:12|2021-01-01 00:42:37|2021-01-01 00:42:51|2021-01-01 00:45:50|         142|         143|      0.74|      179|               7.91|  0.0|0.24|      0.7|                2.75|       NULL| 0.0|      7.41|                  N|                N|                  |               N|             N|\n",
      "|           HV0003|              B02764|              B02764|2021-01-01 00:46:11|2021-01-01 00:47:17|2021-01-01 00:48:14|2021-01-01 01:08:42|         143|          78|       9.2|     1228|              27.11|  0.0|0.81|     2.41|                2.75|       NULL| 0.0|     22.44|                  N|                N|                  |               N|             N|\n",
      "|           HV0005|              B02510|                NULL|2021-01-01 00:04:00|               NULL|2021-01-01 00:06:59|2021-01-01 00:43:01|          88|          42|     9.725|     2162|              28.11|  0.0|0.84|     2.49|                2.75|       NULL| 0.0|      28.9|                  N|                N|                 N|               N|             N|\n",
      "|           HV0005|              B02510|                NULL|2021-01-01 00:40:06|               NULL|2021-01-01 00:50:00|2021-01-01 01:04:57|          42|         151|     2.469|      897|              25.03|  0.0|0.75|     2.22|                 0.0|       NULL| 0.0|     15.01|                  N|                N|                 N|               N|             N|\n",
      "|           HV0003|              B02764|              B02764|2021-01-01 00:10:36|2021-01-01 00:12:28|2021-01-01 00:14:30|2021-01-01 00:50:27|          71|         226|     13.53|     2157|              29.67|  0.0|1.04|     3.08|                 0.0|       NULL| 0.0|      34.2|                  N|                N|                  |               N|             N|\n",
      "|           HV0003|              B02875|              B02875|2021-01-01 00:21:17|2021-01-01 00:22:25|2021-01-01 00:22:54|2021-01-01 00:30:20|         112|         255|       1.6|      446|               6.89|  0.0|0.21|     0.61|                 0.0|       NULL| 0.0|      6.26|                  N|                N|                  |               N|             N|\n",
      "|           HV0003|              B02875|              B02875|2021-01-01 00:36:57|2021-01-01 00:38:09|2021-01-01 00:40:12|2021-01-01 00:53:31|         255|         232|       3.2|      800|              11.51|  0.0|0.53|     1.03|                2.75|       NULL|2.82|     10.99|                  N|                N|                  |               N|             N|\n",
      "|           HV0003|              B02875|              B02875|2021-01-01 00:53:31|2021-01-01 00:56:21|2021-01-01 00:56:45|2021-01-01 01:17:42|         232|         198|      5.74|     1257|              17.18|  0.0|0.52|     1.52|                2.75|       NULL| 0.0|     17.61|                  N|                N|                  |               N|             N|\n",
      "|           HV0003|              B02835|              B02835|2021-01-01 00:22:58|2021-01-01 00:27:01|2021-01-01 00:29:04|2021-01-01 00:36:27|         113|          48|       1.8|      443|               8.18|  0.0|0.25|     0.73|                2.75|       NULL| 0.0|      6.12|                  N|                N|                  |               N|             N|\n",
      "|           HV0003|              B02835|              B02835|2021-01-01 00:46:44|2021-01-01 00:47:49|2021-01-01 00:48:56|2021-01-01 00:59:12|         239|          75|       2.9|      616|               13.1|  0.0|0.45|     1.17|                2.75|       NULL|0.94|      8.77|                  N|                N|                  |               N|             N|\n",
      "|           HV0004|              B02800|                NULL|2021-01-01 00:12:50|               NULL|2021-01-01 00:15:24|2021-01-01 00:38:31|         181|         237|      9.66|     1387|              32.95|  0.0| 0.0|     2.34|                2.75|       NULL| 0.0|      21.1|                  N|                N|                 N|               N|             N|\n",
      "|           HV0004|              B02800|                NULL|2021-01-01 00:35:32|               NULL|2021-01-01 00:45:00|2021-01-01 01:06:45|         236|          68|      4.38|     1305|              22.91|  0.0| 0.0|     1.63|                2.75|       NULL|3.43|     15.82|                  N|                N|                 N|               N|             N|\n",
      "|           HV0003|              B02682|              B02682|2021-01-01 00:10:22|2021-01-01 00:11:03|2021-01-01 00:11:53|2021-01-01 00:18:06|         256|         148|      2.03|      373|               7.84|  0.0|0.42|      0.7|                2.75|       NULL|2.82|      6.93|                  N|                N|                  |               N|             N|\n",
      "|           HV0003|              B02682|              B02682|2021-01-01 00:25:00|2021-01-01 00:26:31|2021-01-01 00:28:31|2021-01-01 00:41:40|          79|          80|      3.08|      789|               13.2|  0.0| 0.4|     1.17|                2.75|       NULL| 0.0|     11.54|                  N|                N|                  |               N|             N|\n",
      "|           HV0003|              B02682|              B02682|2021-01-01 00:44:56|2021-01-01 00:49:55|2021-01-01 00:50:49|2021-01-01 00:55:59|          17|         217|      1.17|      310|               7.91|  0.0|0.24|      0.7|                 0.0|       NULL| 0.0|      6.94|                  N|                N|                  |               N|             N|\n",
      "|           HV0005|              B02510|                NULL|2021-01-01 00:05:04|               NULL|2021-01-01 00:08:40|2021-01-01 00:39:39|          62|          29|    10.852|     1859|              31.18|  0.0|0.94|     2.77|                 0.0|       NULL| 0.0|     27.61|                  N|                N|                 N|               N|             N|\n",
      "|           HV0003|              B02836|              B02836|2021-01-01 00:40:44|2021-01-01 00:53:34|2021-01-01 00:53:48|2021-01-01 01:11:40|          22|          22|      3.52|     1072|              28.67|  0.0|0.86|     2.54|                 0.0|       NULL| 0.0|     17.64|                  N|                N|                  |               N|             N|\n",
      "+-----------------+--------------------+--------------------+-------------------+-------------------+-------------------+-------------------+------------+------------+----------+---------+-------------------+-----+----+---------+--------------------+-----------+----+----------+-------------------+-----------------+------------------+----------------+--------------+\n",
      "only showing top 20 rows\n",
      "\n"
     ]
    }
   ],
   "source": [
    "# Read the data, Note that the datatypes are not inferred and that everything is a string!\n",
    "df = spark.read.option(\"header\",\"true\").parquet(\"fhvhv_tripdata_2021-01.parquet\")\n",
    "\n",
    "df.show()"
   ]
  },
  {
   "cell_type": "code",
   "execution_count": 5,
   "id": "0c718ca9-186f-4bcc-8058-37bedbfdf501",
   "metadata": {},
   "outputs": [
    {
     "name": "stderr",
     "output_type": "stream",
     "text": [
      "                                                                                \r"
     ]
    },
    {
     "data": {
      "text/plain": [
       "[Row(hvfhs_license_num='HV0003', dispatching_base_num='B02682', originating_base_num='B02682', request_datetime=datetime.datetime(2021, 1, 1, 0, 28, 9), on_scene_datetime=datetime.datetime(2021, 1, 1, 0, 31, 42), pickup_datetime=datetime.datetime(2021, 1, 1, 0, 33, 44), dropoff_datetime=datetime.datetime(2021, 1, 1, 0, 49, 7), PULocationID=230, DOLocationID=166, trip_miles=5.26, trip_time=923, base_passenger_fare=22.28, tolls=0.0, bcf=0.67, sales_tax=1.98, congestion_surcharge=2.75, airport_fee=None, tips=0.0, driver_pay=14.99, shared_request_flag='N', shared_match_flag='N', access_a_ride_flag=' ', wav_request_flag='N', wav_match_flag='N'),\n",
       " Row(hvfhs_license_num='HV0003', dispatching_base_num='B02682', originating_base_num='B02682', request_datetime=datetime.datetime(2021, 1, 1, 0, 45, 56), on_scene_datetime=datetime.datetime(2021, 1, 1, 0, 55, 19), pickup_datetime=datetime.datetime(2021, 1, 1, 0, 55, 19), dropoff_datetime=datetime.datetime(2021, 1, 1, 1, 18, 21), PULocationID=152, DOLocationID=167, trip_miles=3.65, trip_time=1382, base_passenger_fare=18.36, tolls=0.0, bcf=0.55, sales_tax=1.63, congestion_surcharge=0.0, airport_fee=None, tips=0.0, driver_pay=17.06, shared_request_flag='N', shared_match_flag='N', access_a_ride_flag=' ', wav_request_flag='N', wav_match_flag='N'),\n",
       " Row(hvfhs_license_num='HV0003', dispatching_base_num='B02764', originating_base_num='B02764', request_datetime=datetime.datetime(2021, 1, 1, 0, 21, 15), on_scene_datetime=datetime.datetime(2021, 1, 1, 0, 22, 41), pickup_datetime=datetime.datetime(2021, 1, 1, 0, 23, 56), dropoff_datetime=datetime.datetime(2021, 1, 1, 0, 38, 5), PULocationID=233, DOLocationID=142, trip_miles=3.51, trip_time=849, base_passenger_fare=14.05, tolls=0.0, bcf=0.48, sales_tax=1.25, congestion_surcharge=2.75, airport_fee=None, tips=0.94, driver_pay=12.98, shared_request_flag='N', shared_match_flag='N', access_a_ride_flag=' ', wav_request_flag='N', wav_match_flag='N'),\n",
       " Row(hvfhs_license_num='HV0003', dispatching_base_num='B02764', originating_base_num='B02764', request_datetime=datetime.datetime(2021, 1, 1, 0, 39, 12), on_scene_datetime=datetime.datetime(2021, 1, 1, 0, 42, 37), pickup_datetime=datetime.datetime(2021, 1, 1, 0, 42, 51), dropoff_datetime=datetime.datetime(2021, 1, 1, 0, 45, 50), PULocationID=142, DOLocationID=143, trip_miles=0.74, trip_time=179, base_passenger_fare=7.91, tolls=0.0, bcf=0.24, sales_tax=0.7, congestion_surcharge=2.75, airport_fee=None, tips=0.0, driver_pay=7.41, shared_request_flag='N', shared_match_flag='N', access_a_ride_flag=' ', wav_request_flag='N', wav_match_flag='N'),\n",
       " Row(hvfhs_license_num='HV0003', dispatching_base_num='B02764', originating_base_num='B02764', request_datetime=datetime.datetime(2021, 1, 1, 0, 46, 11), on_scene_datetime=datetime.datetime(2021, 1, 1, 0, 47, 17), pickup_datetime=datetime.datetime(2021, 1, 1, 0, 48, 14), dropoff_datetime=datetime.datetime(2021, 1, 1, 1, 8, 42), PULocationID=143, DOLocationID=78, trip_miles=9.2, trip_time=1228, base_passenger_fare=27.11, tolls=0.0, bcf=0.81, sales_tax=2.41, congestion_surcharge=2.75, airport_fee=None, tips=0.0, driver_pay=22.44, shared_request_flag='N', shared_match_flag='N', access_a_ride_flag=' ', wav_request_flag='N', wav_match_flag='N')]"
      ]
     },
     "execution_count": 5,
     "metadata": {},
     "output_type": "execute_result"
    }
   ],
   "source": [
    "# Displays the first five rows as a list of strings\n",
    "df.head(5)"
   ]
  },
  {
   "cell_type": "code",
   "execution_count": 6,
   "id": "a39c1077-0b3e-48bf-a0a9-8503bc911477",
   "metadata": {},
   "outputs": [
    {
     "data": {
      "text/plain": [
       "StructType([StructField('hvfhs_license_num', StringType(), True), StructField('dispatching_base_num', StringType(), True), StructField('originating_base_num', StringType(), True), StructField('request_datetime', TimestampNTZType(), True), StructField('on_scene_datetime', TimestampNTZType(), True), StructField('pickup_datetime', TimestampNTZType(), True), StructField('dropoff_datetime', TimestampNTZType(), True), StructField('PULocationID', LongType(), True), StructField('DOLocationID', LongType(), True), StructField('trip_miles', DoubleType(), True), StructField('trip_time', LongType(), True), StructField('base_passenger_fare', DoubleType(), True), StructField('tolls', DoubleType(), True), StructField('bcf', DoubleType(), True), StructField('sales_tax', DoubleType(), True), StructField('congestion_surcharge', DoubleType(), True), StructField('airport_fee', DoubleType(), True), StructField('tips', DoubleType(), True), StructField('driver_pay', DoubleType(), True), StructField('shared_request_flag', StringType(), True), StructField('shared_match_flag', StringType(), True), StructField('access_a_ride_flag', StringType(), True), StructField('wav_request_flag', StringType(), True), StructField('wav_match_flag', StringType(), True)])"
      ]
     },
     "execution_count": 6,
     "metadata": {},
     "output_type": "execute_result"
    }
   ],
   "source": [
    "# Datatype of the fields in dataframe, again all as a list of strings\n",
    "df.schema"
   ]
  },
  {
   "cell_type": "code",
   "execution_count": 7,
   "id": "6c90a300-4ee1-41de-a02b-7829e282bc7e",
   "metadata": {},
   "outputs": [
    {
     "data": {
      "text/plain": [
       "['hvfhs_license_num',\n",
       " 'dispatching_base_num',\n",
       " 'originating_base_num',\n",
       " 'request_datetime',\n",
       " 'on_scene_datetime',\n",
       " 'pickup_datetime',\n",
       " 'dropoff_datetime',\n",
       " 'PULocationID',\n",
       " 'DOLocationID',\n",
       " 'trip_miles',\n",
       " 'trip_time',\n",
       " 'base_passenger_fare',\n",
       " 'tolls',\n",
       " 'bcf',\n",
       " 'sales_tax',\n",
       " 'congestion_surcharge',\n",
       " 'airport_fee',\n",
       " 'tips',\n",
       " 'driver_pay',\n",
       " 'shared_request_flag',\n",
       " 'shared_match_flag',\n",
       " 'access_a_ride_flag',\n",
       " 'wav_request_flag',\n",
       " 'wav_match_flag']"
      ]
     },
     "execution_count": 7,
     "metadata": {},
     "output_type": "execute_result"
    }
   ],
   "source": [
    "df.columns"
   ]
  },
  {
   "cell_type": "markdown",
   "id": "cd041ac0-cd62-43f7-b303-05eac3d3b088",
   "metadata": {},
   "source": [
    "## Creating a schema using Pandas\n",
    "\n",
    "write the first 1001 lines of the output csv file to another file"
   ]
  },
  {
   "cell_type": "code",
   "execution_count": 8,
   "id": "e89ae832-4524-4530-80ad-eeff3e206309",
   "metadata": {},
   "outputs": [],
   "source": [
    "!head -n 1001 output.csv > head.csv"
   ]
  },
  {
   "cell_type": "code",
   "execution_count": 9,
   "id": "f00a36ab-2351-4b28-a248-6f4734c88250",
   "metadata": {},
   "outputs": [
    {
     "name": "stdout",
     "output_type": "stream",
     "text": [
      "1001 head.csv\n"
     ]
    }
   ],
   "source": [
    "# Count the lines in the new .csv file\n",
    "!wc -l head.csv"
   ]
  },
  {
   "cell_type": "markdown",
   "id": "bfe32030-3f8c-494d-b75f-61a3512efefe",
   "metadata": {},
   "source": [
    "We will now use Pandas to infer the datatypes. Let's import pandas and read the small .csv file."
   ]
  },
  {
   "cell_type": "code",
   "execution_count": 10,
   "id": "2a7c32d0-07c2-428c-90f5-8a939ffc0863",
   "metadata": {},
   "outputs": [],
   "source": [
    "import pandas as pd\n",
    "\n",
    "df_pandas = pd.read_csv(\"head.csv\")"
   ]
  },
  {
   "cell_type": "code",
   "execution_count": 11,
   "id": "3345ea77-0a0a-4e67-906f-b84bc86e4c77",
   "metadata": {},
   "outputs": [
    {
     "data": {
      "text/plain": [
       "hvfhs_license_num        object\n",
       "dispatching_base_num     object\n",
       "originating_base_num     object\n",
       "request_datetime         object\n",
       "on_scene_datetime        object\n",
       "pickup_datetime          object\n",
       "dropoff_datetime         object\n",
       "PULocationID              int64\n",
       "DOLocationID              int64\n",
       "trip_miles              float64\n",
       "trip_time                 int64\n",
       "base_passenger_fare     float64\n",
       "tolls                   float64\n",
       "bcf                     float64\n",
       "sales_tax               float64\n",
       "congestion_surcharge    float64\n",
       "tips                    float64\n",
       "driver_pay              float64\n",
       "shared_request_flag      object\n",
       "shared_match_flag        object\n",
       "access_a_ride_flag       object\n",
       "wav_request_flag         object\n",
       "wav_match_flag           object\n",
       "dtype: object"
      ]
     },
     "execution_count": 11,
     "metadata": {},
     "output_type": "execute_result"
    }
   ],
   "source": [
    "# Lets see how pandas infers the datatypes - it does a good job except for time fields\n",
    "df_pandas.dtypes"
   ]
  },
  {
   "cell_type": "code",
   "execution_count": 12,
   "id": "c0533a0f-329f-4b02-907c-77ec5a4a01a9",
   "metadata": {},
   "outputs": [
    {
     "data": {
      "text/plain": [
       "StructType([StructField('hvfhs_license_num', StringType(), True), StructField('dispatching_base_num', StringType(), True), StructField('originating_base_num', StringType(), True), StructField('request_datetime', StringType(), True), StructField('on_scene_datetime', StringType(), True), StructField('pickup_datetime', StringType(), True), StructField('dropoff_datetime', StringType(), True), StructField('PULocationID', LongType(), True), StructField('DOLocationID', LongType(), True), StructField('trip_miles', DoubleType(), True), StructField('trip_time', LongType(), True), StructField('base_passenger_fare', DoubleType(), True), StructField('tolls', DoubleType(), True), StructField('bcf', DoubleType(), True), StructField('sales_tax', DoubleType(), True), StructField('congestion_surcharge', DoubleType(), True), StructField('tips', DoubleType(), True), StructField('driver_pay', DoubleType(), True), StructField('shared_request_flag', StringType(), True), StructField('shared_match_flag', StringType(), True), StructField('access_a_ride_flag', StringType(), True), StructField('wav_request_flag', StringType(), True), StructField('wav_match_flag', StringType(), True)])"
      ]
     },
     "execution_count": 12,
     "metadata": {},
     "output_type": "execute_result"
    }
   ],
   "source": [
    "# Now we need to convert the pandas dataframe into a spark dataframe and call the schema attribute\n",
    "# to access the schema of the pandas dataframe that we saw previously but using Spark. Result should give you \n",
    "# a schema that is different from what you saw previously using .dtypes\n",
    "spark.createDataFrame(df_pandas).schema"
   ]
  },
  {
   "cell_type": "markdown",
   "id": "8a8a01e9-2902-4511-8b98-1dfdf28b7121",
   "metadata": {},
   "source": [
    "`StructType` comes from `scala` and we need to turn this into python code for declaring schema for our dataframe. Let's take this opportunity to also change the data types to more optimised data types than what was prescribed above. \n",
    "\n",
    "Integer = 4 bytes\n",
    "Long = 8 bytes\n",
    "\n",
    "> Note: Parquet stores INT64 as LongType in Spark, not IntegerType."
   ]
  },
  {
   "cell_type": "code",
   "execution_count": 13,
   "id": "7b03ab2d-11a2-4d05-8113-0d572ab79734",
   "metadata": {},
   "outputs": [],
   "source": [
    "from pyspark.sql import types"
   ]
  },
  {
   "cell_type": "code",
   "execution_count": 14,
   "id": "29a1cec1-26ab-4c9c-b610-01ece33c6072",
   "metadata": {},
   "outputs": [],
   "source": [
    "# Lets amend the schema so that its more efficient than what was prescribed\n",
    "\n",
    "schema = types.StructType(\n",
    "    [\n",
    "        types.StructField('hvfhs_license_num', types.StringType(), True),\n",
    "        types.StructField('dispatching_base_num', types.StringType(), True), \n",
    "        types.StructField('originating_base_num', types.StringType(), True), \n",
    "        types.StructField('request_datetime', types.TimestampType(), True), \n",
    "        types.StructField('on_scene_datetime', types.TimestampType(), True), \n",
    "        types.StructField('pickup_datetime', types.TimestampType(), True), \n",
    "        types.StructField('dropoff_datetime', types.TimestampType(), True), \n",
    "        types.StructField('PULocationID', types.LongType(), True), \n",
    "        types.StructField('DOLocationID', types.LongType(), True), \n",
    "        types.StructField('trip_miles', types.DoubleType(), True), \n",
    "        types.StructField('trip_time', types.LongType(), True), \n",
    "        types.StructField('base_passenger_fare', types.DoubleType(), True), \n",
    "        types.StructField('tolls', types.DoubleType(), True), \n",
    "        types.StructField('bcf', types.DoubleType(), True), \n",
    "        types.StructField('sales_tax', types.DoubleType(), True), \n",
    "        types.StructField('congestion_surcharge', types.DoubleType(), True), \n",
    "        types.StructField('tips', types.DoubleType(), True), \n",
    "        types.StructField('driver_pay', types.DoubleType(), True), \n",
    "        types.StructField('shared_request_flag', types.StringType(), True), \n",
    "        types.StructField('shared_match_flag', types.StringType(), True), \n",
    "        types.StructField('access_a_ride_flag', types.StringType(), True), \n",
    "        types.StructField('wav_request_flag', types.StringType(), True), \n",
    "        types.StructField('wav_match_flag', types.StringType(), True)\n",
    "    ]\n",
    ")"
   ]
  },
  {
   "cell_type": "code",
   "execution_count": 15,
   "id": "a1dfb257-88dc-40b2-9a1e-d81ced02f30e",
   "metadata": {},
   "outputs": [
    {
     "name": "stderr",
     "output_type": "stream",
     "text": [
      "                                                                                \r"
     ]
    },
    {
     "data": {
      "text/plain": [
       "[Row(hvfhs_license_num='HV0003', dispatching_base_num='B02682', originating_base_num='B02682', request_datetime=datetime.datetime(2021, 1, 1, 0, 28, 9), on_scene_datetime=datetime.datetime(2021, 1, 1, 0, 31, 42), pickup_datetime=datetime.datetime(2021, 1, 1, 0, 33, 44), dropoff_datetime=datetime.datetime(2021, 1, 1, 0, 49, 7), PULocationID=230, DOLocationID=166, trip_miles=5.26, trip_time=923, base_passenger_fare=22.28, tolls=0.0, bcf=0.67, sales_tax=1.98, congestion_surcharge=2.75, tips=0.0, driver_pay=14.99, shared_request_flag='N', shared_match_flag='N', access_a_ride_flag=' ', wav_request_flag='N', wav_match_flag='N'),\n",
       " Row(hvfhs_license_num='HV0003', dispatching_base_num='B02682', originating_base_num='B02682', request_datetime=datetime.datetime(2021, 1, 1, 0, 45, 56), on_scene_datetime=datetime.datetime(2021, 1, 1, 0, 55, 19), pickup_datetime=datetime.datetime(2021, 1, 1, 0, 55, 19), dropoff_datetime=datetime.datetime(2021, 1, 1, 1, 18, 21), PULocationID=152, DOLocationID=167, trip_miles=3.65, trip_time=1382, base_passenger_fare=18.36, tolls=0.0, bcf=0.55, sales_tax=1.63, congestion_surcharge=0.0, tips=0.0, driver_pay=17.06, shared_request_flag='N', shared_match_flag='N', access_a_ride_flag=' ', wav_request_flag='N', wav_match_flag='N'),\n",
       " Row(hvfhs_license_num='HV0003', dispatching_base_num='B02764', originating_base_num='B02764', request_datetime=datetime.datetime(2021, 1, 1, 0, 21, 15), on_scene_datetime=datetime.datetime(2021, 1, 1, 0, 22, 41), pickup_datetime=datetime.datetime(2021, 1, 1, 0, 23, 56), dropoff_datetime=datetime.datetime(2021, 1, 1, 0, 38, 5), PULocationID=233, DOLocationID=142, trip_miles=3.51, trip_time=849, base_passenger_fare=14.05, tolls=0.0, bcf=0.48, sales_tax=1.25, congestion_surcharge=2.75, tips=0.94, driver_pay=12.98, shared_request_flag='N', shared_match_flag='N', access_a_ride_flag=' ', wav_request_flag='N', wav_match_flag='N'),\n",
       " Row(hvfhs_license_num='HV0003', dispatching_base_num='B02764', originating_base_num='B02764', request_datetime=datetime.datetime(2021, 1, 1, 0, 39, 12), on_scene_datetime=datetime.datetime(2021, 1, 1, 0, 42, 37), pickup_datetime=datetime.datetime(2021, 1, 1, 0, 42, 51), dropoff_datetime=datetime.datetime(2021, 1, 1, 0, 45, 50), PULocationID=142, DOLocationID=143, trip_miles=0.74, trip_time=179, base_passenger_fare=7.91, tolls=0.0, bcf=0.24, sales_tax=0.7, congestion_surcharge=2.75, tips=0.0, driver_pay=7.41, shared_request_flag='N', shared_match_flag='N', access_a_ride_flag=' ', wav_request_flag='N', wav_match_flag='N'),\n",
       " Row(hvfhs_license_num='HV0003', dispatching_base_num='B02764', originating_base_num='B02764', request_datetime=datetime.datetime(2021, 1, 1, 0, 46, 11), on_scene_datetime=datetime.datetime(2021, 1, 1, 0, 47, 17), pickup_datetime=datetime.datetime(2021, 1, 1, 0, 48, 14), dropoff_datetime=datetime.datetime(2021, 1, 1, 1, 8, 42), PULocationID=143, DOLocationID=78, trip_miles=9.2, trip_time=1228, base_passenger_fare=27.11, tolls=0.0, bcf=0.81, sales_tax=2.41, congestion_surcharge=2.75, tips=0.0, driver_pay=22.44, shared_request_flag='N', shared_match_flag='N', access_a_ride_flag=' ', wav_request_flag='N', wav_match_flag='N')]"
      ]
     },
     "execution_count": 15,
     "metadata": {},
     "output_type": "execute_result"
    }
   ],
   "source": [
    "# now to read our parquet file into a spark dataframe again, but this time with a schema\n",
    "\n",
    "df = spark.read.schema(schema).parquet(\"fhvhv_tripdata_2021-01.parquet\")\n",
    "df.head(5)"
   ]
  },
  {
   "cell_type": "markdown",
   "id": "ba538c8b-bba7-472a-8cfe-2d3f63fe79da",
   "metadata": {},
   "source": [
    "## Partitions"
   ]
  },
  {
   "cell_type": "code",
   "execution_count": 16,
   "id": "0c27ff0f-afbb-4e8a-95b3-6ac677bab9ab",
   "metadata": {},
   "outputs": [],
   "source": [
    "# create 24 partitions in our dataframe - nothing actually happens here, df still gives the original dataframe\n",
    "# only when we execute a step, say .write, then only will the execution happen in partitions\n",
    "df = df.repartition(24)"
   ]
  },
  {
   "cell_type": "code",
   "execution_count": 17,
   "id": "d7d5872a-3c29-42a6-8221-f50f0ca7cf2a",
   "metadata": {},
   "outputs": [
    {
     "name": "stderr",
     "output_type": "stream",
     "text": [
      "                                                                                \r"
     ]
    }
   ],
   "source": [
    "# parquetize and write to fhvhv/2021/01/ folder\n",
    "df.write.parquet('fhvhv/2021/01/', mode='overwrite')"
   ]
  },
  {
   "cell_type": "code",
   "execution_count": 19,
   "id": "0b14dbe6-23f6-4c8a-96c7-2869873b7132",
   "metadata": {},
   "outputs": [
    {
     "name": "stdout",
     "output_type": "stream",
     "text": [
      "total 526M\n",
      "-rw-r--r-- 1 peter peter   0 Mar 13 14:37 _SUCCESS\n",
      "-rw-r--r-- 1 peter peter 22M Mar 13 14:37 part-00000-c310a6b6-ef55-417e-a1cf-d843d3658b8b-c000.snappy.parquet\n",
      "-rw-r--r-- 1 peter peter 22M Mar 13 14:37 part-00001-c310a6b6-ef55-417e-a1cf-d843d3658b8b-c000.snappy.parquet\n",
      "-rw-r--r-- 1 peter peter 22M Mar 13 14:37 part-00002-c310a6b6-ef55-417e-a1cf-d843d3658b8b-c000.snappy.parquet\n",
      "-rw-r--r-- 1 peter peter 22M Mar 13 14:37 part-00003-c310a6b6-ef55-417e-a1cf-d843d3658b8b-c000.snappy.parquet\n",
      "-rw-r--r-- 1 peter peter 22M Mar 13 14:37 part-00004-c310a6b6-ef55-417e-a1cf-d843d3658b8b-c000.snappy.parquet\n",
      "-rw-r--r-- 1 peter peter 22M Mar 13 14:37 part-00005-c310a6b6-ef55-417e-a1cf-d843d3658b8b-c000.snappy.parquet\n",
      "-rw-r--r-- 1 peter peter 22M Mar 13 14:37 part-00006-c310a6b6-ef55-417e-a1cf-d843d3658b8b-c000.snappy.parquet\n",
      "-rw-r--r-- 1 peter peter 22M Mar 13 14:37 part-00007-c310a6b6-ef55-417e-a1cf-d843d3658b8b-c000.snappy.parquet\n",
      "-rw-r--r-- 1 peter peter 22M Mar 13 14:37 part-00008-c310a6b6-ef55-417e-a1cf-d843d3658b8b-c000.snappy.parquet\n",
      "-rw-r--r-- 1 peter peter 22M Mar 13 14:37 part-00009-c310a6b6-ef55-417e-a1cf-d843d3658b8b-c000.snappy.parquet\n",
      "-rw-r--r-- 1 peter peter 22M Mar 13 14:37 part-00010-c310a6b6-ef55-417e-a1cf-d843d3658b8b-c000.snappy.parquet\n",
      "-rw-r--r-- 1 peter peter 22M Mar 13 14:37 part-00011-c310a6b6-ef55-417e-a1cf-d843d3658b8b-c000.snappy.parquet\n",
      "-rw-r--r-- 1 peter peter 22M Mar 13 14:37 part-00012-c310a6b6-ef55-417e-a1cf-d843d3658b8b-c000.snappy.parquet\n",
      "-rw-r--r-- 1 peter peter 22M Mar 13 14:37 part-00013-c310a6b6-ef55-417e-a1cf-d843d3658b8b-c000.snappy.parquet\n",
      "-rw-r--r-- 1 peter peter 22M Mar 13 14:37 part-00014-c310a6b6-ef55-417e-a1cf-d843d3658b8b-c000.snappy.parquet\n",
      "-rw-r--r-- 1 peter peter 22M Mar 13 14:37 part-00015-c310a6b6-ef55-417e-a1cf-d843d3658b8b-c000.snappy.parquet\n",
      "-rw-r--r-- 1 peter peter 22M Mar 13 14:37 part-00016-c310a6b6-ef55-417e-a1cf-d843d3658b8b-c000.snappy.parquet\n",
      "-rw-r--r-- 1 peter peter 22M Mar 13 14:37 part-00017-c310a6b6-ef55-417e-a1cf-d843d3658b8b-c000.snappy.parquet\n",
      "-rw-r--r-- 1 peter peter 22M Mar 13 14:37 part-00018-c310a6b6-ef55-417e-a1cf-d843d3658b8b-c000.snappy.parquet\n",
      "-rw-r--r-- 1 peter peter 22M Mar 13 14:37 part-00019-c310a6b6-ef55-417e-a1cf-d843d3658b8b-c000.snappy.parquet\n",
      "-rw-r--r-- 1 peter peter 22M Mar 13 14:37 part-00020-c310a6b6-ef55-417e-a1cf-d843d3658b8b-c000.snappy.parquet\n",
      "-rw-r--r-- 1 peter peter 22M Mar 13 14:37 part-00021-c310a6b6-ef55-417e-a1cf-d843d3658b8b-c000.snappy.parquet\n",
      "-rw-r--r-- 1 peter peter 22M Mar 13 14:37 part-00022-c310a6b6-ef55-417e-a1cf-d843d3658b8b-c000.snappy.parquet\n",
      "-rw-r--r-- 1 peter peter 22M Mar 13 14:37 part-00023-c310a6b6-ef55-417e-a1cf-d843d3658b8b-c000.snappy.parquet\n"
     ]
    }
   ],
   "source": [
    "# Check the created files\n",
    "!ls -lh fhvhv/2021/01/"
   ]
  },
  {
   "cell_type": "markdown",
   "id": "2cc876df",
   "metadata": {},
   "source": [
    "## Spark DataFrames"
   ]
  },
  {
   "cell_type": "code",
   "execution_count": 20,
   "id": "5a515d7d",
   "metadata": {},
   "outputs": [
    {
     "name": "stdout",
     "output_type": "stream",
     "text": [
      "root\n",
      " |-- hvfhs_license_num: string (nullable = true)\n",
      " |-- dispatching_base_num: string (nullable = true)\n",
      " |-- originating_base_num: string (nullable = true)\n",
      " |-- request_datetime: timestamp (nullable = true)\n",
      " |-- on_scene_datetime: timestamp (nullable = true)\n",
      " |-- pickup_datetime: timestamp (nullable = true)\n",
      " |-- dropoff_datetime: timestamp (nullable = true)\n",
      " |-- PULocationID: long (nullable = true)\n",
      " |-- DOLocationID: long (nullable = true)\n",
      " |-- trip_miles: double (nullable = true)\n",
      " |-- trip_time: long (nullable = true)\n",
      " |-- base_passenger_fare: double (nullable = true)\n",
      " |-- tolls: double (nullable = true)\n",
      " |-- bcf: double (nullable = true)\n",
      " |-- sales_tax: double (nullable = true)\n",
      " |-- congestion_surcharge: double (nullable = true)\n",
      " |-- tips: double (nullable = true)\n",
      " |-- driver_pay: double (nullable = true)\n",
      " |-- shared_request_flag: string (nullable = true)\n",
      " |-- shared_match_flag: string (nullable = true)\n",
      " |-- access_a_ride_flag: string (nullable = true)\n",
      " |-- wav_request_flag: string (nullable = true)\n",
      " |-- wav_match_flag: string (nullable = true)\n",
      "\n"
     ]
    }
   ],
   "source": [
    "# Create a spark dataframe from the partitioned parquet files\n",
    "df = spark.read.parquet('fhvhv/2021/01/')\n",
    "\n",
    "# Check the schema\n",
    "df.printSchema()"
   ]
  },
  {
   "cell_type": "markdown",
   "id": "875d9f35",
   "metadata": {},
   "source": [
    "## Functions and UDFs"
   ]
  },
  {
   "cell_type": "code",
   "execution_count": 21,
   "id": "89351754",
   "metadata": {},
   "outputs": [],
   "source": [
    "from pyspark.sql import functions as F"
   ]
  },
  {
   "cell_type": "code",
   "execution_count": 22,
   "id": "74ec4184",
   "metadata": {},
   "outputs": [
    {
     "name": "stdout",
     "output_type": "stream",
     "text": [
      "+-----------------+--------------------+--------------------+-------------------+-------------------+-------------------+-------------------+------------+------------+----------+---------+-------------------+-----+----+---------+--------------------+----+----------+-------------------+-----------------+------------------+----------------+--------------+\n",
      "|hvfhs_license_num|dispatching_base_num|originating_base_num|   request_datetime|  on_scene_datetime|    pickup_datetime|   dropoff_datetime|PULocationID|DOLocationID|trip_miles|trip_time|base_passenger_fare|tolls| bcf|sales_tax|congestion_surcharge|tips|driver_pay|shared_request_flag|shared_match_flag|access_a_ride_flag|wav_request_flag|wav_match_flag|\n",
      "+-----------------+--------------------+--------------------+-------------------+-------------------+-------------------+-------------------+------------+------------+----------+---------+-------------------+-----+----+---------+--------------------+----+----------+-------------------+-----------------+------------------+----------------+--------------+\n",
      "|           HV0005|              B02510|                NULL|2021-01-25 07:57:23|               NULL|2021-01-25 08:06:06|2021-01-25 08:09:32|          86|          86|     0.722|      206|                7.1| 0.21|0.22|     0.65|                 0.0| 0.0|      5.47|                  N|                N|                 N|               N|             N|\n",
      "|           HV0003|              B02877|              B02877|2021-01-07 11:27:18|2021-01-07 11:28:49|2021-01-07 11:30:40|2021-01-07 11:47:52|         238|          74|      2.92|     1032|              15.81|  0.0|0.47|      1.4|                2.75| 0.0|     11.85|                  N|                N|                  |               N|             N|\n",
      "|           HV0003|              B02864|              B02864|2021-01-06 14:16:04|2021-01-06 14:21:44|2021-01-06 14:22:00|2021-01-06 14:26:38|          41|          41|      0.54|      278|               7.12|  0.0|0.21|     0.63|                 0.0| 0.0|       5.4|                  N|                N|                  |               N|             N|\n",
      "|           HV0003|              B02877|              B02877|2021-01-22 08:50:39|2021-01-22 08:52:57|2021-01-22 08:54:57|2021-01-22 09:05:50|         216|         216|      1.54|      653|               7.41|  0.0|0.22|     0.66|                 0.0| 0.0|      9.16|                  N|                N|                  |               N|             N|\n",
      "|           HV0003|              B02872|              B02872|2021-01-30 10:41:17|2021-01-30 10:43:56|2021-01-30 10:43:56|2021-01-30 10:55:12|          39|          76|      2.19|      676|              11.25|  0.0|0.34|      1.0|                 0.0| 0.0|      8.08|                  N|                N|                  |               N|             N|\n",
      "|           HV0003|              B02866|              B02866|2021-01-10 13:53:38|2021-01-10 13:57:52|2021-01-10 13:58:06|2021-01-10 14:05:12|          61|         225|       1.2|      426|               6.33|  0.0|0.19|     0.56|                 0.0| 0.0|      5.39|                  N|                N|                  |               N|             N|\n",
      "|           HV0003|              B02617|              B02617|2021-01-18 00:20:14|2021-01-18 00:23:11|2021-01-18 00:23:29|2021-01-18 00:34:52|         107|          68|      2.02|      683|              12.21|  0.0|0.37|     1.08|                2.75| 0.0|      7.95|                  N|                N|                  |               N|             N|\n",
      "|           HV0005|              B02510|                NULL|2021-01-14 17:03:24|               NULL|2021-01-14 17:05:45|2021-01-14 17:27:22|         129|          75|     7.395|     1297|              28.63| 6.21|1.05|     3.09|                 0.0| 0.0|     19.06|                  N|                N|                 N|               N|             N|\n",
      "|           HV0003|              B02887|              B02887|2021-01-01 00:42:41|2021-01-01 00:49:52|2021-01-01 00:51:21|2021-01-01 01:09:40|         208|         140|     10.96|     1099|              44.43| 6.12|1.52|     4.49|                2.75| 0.0|     31.18|                  N|                N|                  |               N|             N|\n",
      "|           HV0005|              B02510|                NULL|2021-01-10 00:43:58|               NULL|2021-01-10 00:48:54|2021-01-10 01:06:41|         119|         265|     7.004|     1067|              20.92| 0.26|0.64|     1.88|                 0.0| 0.0|     16.91|                  N|                N|                 N|               N|             N|\n",
      "|           HV0003|              B02877|              B02877|2021-01-02 09:13:19|2021-01-02 09:16:54|2021-01-02 09:17:00|2021-01-02 09:28:55|          94|         174|      4.37|      715|              13.99|  0.0|0.42|     1.24|                 0.0| 0.0|     12.27|                  N|                N|                  |               N|             N|\n",
      "|           HV0005|              B02510|                NULL|2021-01-21 11:23:09|               NULL|2021-01-21 11:28:03|2021-01-21 11:45:05|         231|         234|     2.787|     1022|              15.27|  0.0|0.46|     1.36|                2.75| 0.0|     11.65|                  N|                N|                 N|               N|             N|\n",
      "|           HV0003|              B02866|              B02866|2021-01-08 18:02:35|2021-01-08 18:06:17|2021-01-08 18:06:30|2021-01-08 18:26:46|          89|          91|      2.28|     1216|               9.65|  0.0|0.29|     0.86|                 0.0| 0.0|     12.69|                  N|                N|                  |               N|             N|\n",
      "|           HV0005|              B02510|                NULL|2021-01-30 13:24:44|               NULL|2021-01-30 13:26:01|2021-01-30 13:39:29|          79|         141|       3.4|      808|              14.09|  0.0|0.42|     1.25|                2.75| 0.0|     10.54|                  N|                N|                 N|               N|             N|\n",
      "|           HV0003|              B02882|              B02882|2021-01-15 17:29:51|2021-01-15 17:32:37|2021-01-15 17:32:56|2021-01-15 17:38:10|          61|          61|      0.82|      314|               5.54|  0.0|0.17|     0.49|                 0.0| 0.0|       5.4|                  N|                N|                  |               N|             N|\n",
      "|           HV0005|              B02510|                NULL|2021-01-03 06:50:09|               NULL|2021-01-03 06:54:54|2021-01-03 07:18:51|         246|           1|    14.556|     1437|              38.23|21.21|1.78|      0.0|                 0.0|9.18|     31.35|                  N|                N|                 N|               N|             N|\n",
      "|           HV0003|              B02875|              B02875|2021-01-06 14:37:19|2021-01-06 14:40:33|2021-01-06 14:41:26|2021-01-06 14:52:14|         174|         254|      2.19|      648|              11.89|  0.0|0.36|     1.06|                 0.0| 0.0|      7.84|                  N|                N|                  |               N|             N|\n",
      "|           HV0003|              B02872|              B02872|2021-01-02 13:27:00|2021-01-02 13:37:26|2021-01-02 13:38:08|2021-01-02 14:00:17|         208|          69|      7.68|     1329|              32.44|  0.0|0.97|     2.88|                 0.0| 0.0|     22.78|                  N|                N|                  |               N|             N|\n",
      "|           HV0003|              B02877|              B02877|2021-01-13 22:08:31|2021-01-13 22:09:38|2021-01-13 22:09:51|2021-01-13 22:25:37|          85|          17|       3.4|      946|              14.07|  0.0|0.42|     1.25|                 0.0| 0.0|     11.66|                  N|                N|                  |               N|             N|\n",
      "|           HV0003|              B02617|              B02617|2021-01-06 07:07:30|2021-01-06 07:12:39|2021-01-06 07:13:23|2021-01-06 07:27:50|         159|          94|      3.16|      867|              15.75|  0.0|0.47|      1.4|                 0.0| 0.0|     10.74|                  N|                N|                  |               N|             N|\n",
      "+-----------------+--------------------+--------------------+-------------------+-------------------+-------------------+-------------------+------------+------------+----------+---------+-------------------+-----+----+---------+--------------------+----+----------+-------------------+-----------------+------------------+----------------+--------------+\n",
      "only showing top 20 rows\n",
      "\n"
     ]
    }
   ],
   "source": [
    "df.show()"
   ]
  },
  {
   "cell_type": "code",
   "execution_count": 23,
   "id": "08757a6e",
   "metadata": {},
   "outputs": [
    {
     "name": "stdout",
     "output_type": "stream",
     "text": [
      "+-----------+------------+------------+------------+\n",
      "|pickup_date|dropoff_date|PULocationID|DOLocationID|\n",
      "+-----------+------------+------------+------------+\n",
      "| 2021-01-25|  2021-01-25|          86|          86|\n",
      "| 2021-01-07|  2021-01-07|         238|          74|\n",
      "| 2021-01-06|  2021-01-06|          41|          41|\n",
      "| 2021-01-22|  2021-01-22|         216|         216|\n",
      "| 2021-01-30|  2021-01-30|          39|          76|\n",
      "| 2021-01-10|  2021-01-10|          61|         225|\n",
      "| 2021-01-18|  2021-01-18|         107|          68|\n",
      "| 2021-01-14|  2021-01-14|         129|          75|\n",
      "| 2021-01-01|  2021-01-01|         208|         140|\n",
      "| 2021-01-10|  2021-01-10|         119|         265|\n",
      "| 2021-01-02|  2021-01-02|          94|         174|\n",
      "| 2021-01-21|  2021-01-21|         231|         234|\n",
      "| 2021-01-08|  2021-01-08|          89|          91|\n",
      "| 2021-01-30|  2021-01-30|          79|         141|\n",
      "| 2021-01-15|  2021-01-15|          61|          61|\n",
      "| 2021-01-03|  2021-01-03|         246|           1|\n",
      "| 2021-01-06|  2021-01-06|         174|         254|\n",
      "| 2021-01-02|  2021-01-02|         208|          69|\n",
      "| 2021-01-13|  2021-01-13|          85|          17|\n",
      "| 2021-01-06|  2021-01-06|         159|          94|\n",
      "+-----------+------------+------------+------------+\n",
      "only showing top 20 rows\n",
      "\n"
     ]
    }
   ],
   "source": [
    "\n",
    "# Use built-in functions (F.to_date())\n",
    "df \\\n",
    "    .withColumn('pickup_date', F.to_date(df.pickup_datetime)) \\\n",
    "    .withColumn('dropoff_date', F.to_date(df.dropoff_datetime)) \\\n",
    "    .select('pickup_date', 'dropoff_date', 'PULocationID', 'DOLocationID') \\\n",
    "    .show()"
   ]
  },
  {
   "cell_type": "code",
   "execution_count": 24,
   "id": "84dad401",
   "metadata": {},
   "outputs": [],
   "source": [
    "# Creating a user-defined function (UDF)\n",
    "\n",
    "def crazy_stuff(base_num):\n",
    "    num = int(base_num[1:])\n",
    "    if num % 7 == 0:\n",
    "        return f's/{num:03x}'\n",
    "    elif num % 3 == 0:\n",
    "        return f'a/{num:03x}'\n",
    "    else:\n",
    "        return f'e/{num:03x}'\n",
    "\n",
    "crazy_stuff_udf = F.udf(crazy_stuff, returnType=types.StringType())"
   ]
  },
  {
   "cell_type": "code",
   "execution_count": 25,
   "id": "f1ebc0c9",
   "metadata": {},
   "outputs": [
    {
     "name": "stderr",
     "output_type": "stream",
     "text": [
      "[Stage 14:>                                                         (0 + 1) / 1]\r"
     ]
    },
    {
     "name": "stdout",
     "output_type": "stream",
     "text": [
      "+-------+-----------+------------+------------+------------+\n",
      "|base_id|pickup_date|dropoff_date|PULocationID|DOLocationID|\n",
      "+-------+-----------+------------+------------+------------+\n",
      "|  e/9ce| 2021-01-25|  2021-01-25|          86|          86|\n",
      "|  s/b3d| 2021-01-07|  2021-01-07|         238|          74|\n",
      "|  e/b30| 2021-01-06|  2021-01-06|          41|          41|\n",
      "|  s/b3d| 2021-01-22|  2021-01-22|         216|         216|\n",
      "|  e/b38| 2021-01-30|  2021-01-30|          39|          76|\n",
      "|  e/b32| 2021-01-10|  2021-01-10|          61|         225|\n",
      "|  e/a39| 2021-01-18|  2021-01-18|         107|          68|\n",
      "|  e/9ce| 2021-01-14|  2021-01-14|         129|          75|\n",
      "|  e/b47| 2021-01-01|  2021-01-01|         208|         140|\n",
      "|  e/9ce| 2021-01-10|  2021-01-10|         119|         265|\n",
      "|  s/b3d| 2021-01-02|  2021-01-02|          94|         174|\n",
      "|  e/9ce| 2021-01-21|  2021-01-21|         231|         234|\n",
      "|  e/b32| 2021-01-08|  2021-01-08|          89|          91|\n",
      "|  e/9ce| 2021-01-30|  2021-01-30|          79|         141|\n",
      "|  e/b42| 2021-01-15|  2021-01-15|          61|          61|\n",
      "|  e/9ce| 2021-01-03|  2021-01-03|         246|           1|\n",
      "|  e/b3b| 2021-01-06|  2021-01-06|         174|         254|\n",
      "|  e/b38| 2021-01-02|  2021-01-02|         208|          69|\n",
      "|  s/b3d| 2021-01-13|  2021-01-13|          85|          17|\n",
      "|  e/a39| 2021-01-06|  2021-01-06|         159|          94|\n",
      "+-------+-----------+------------+------------+------------+\n",
      "only showing top 20 rows\n",
      "\n"
     ]
    },
    {
     "name": "stderr",
     "output_type": "stream",
     "text": [
      "                                                                                \r"
     ]
    }
   ],
   "source": [
    "df \\\n",
    "    .withColumn('pickup_date', F.to_date(df.pickup_datetime)) \\\n",
    "    .withColumn('dropoff_date', F.to_date(df.dropoff_datetime)) \\\n",
    "    .withColumn('base_id', crazy_stuff_udf(df.dispatching_base_num)) \\\n",
    "    .select('base_id', 'pickup_date', 'dropoff_date', 'PULocationID', 'DOLocationID') \\\n",
    "    .show()"
   ]
  },
  {
   "cell_type": "code",
   "execution_count": null,
   "id": "1aef50fa",
   "metadata": {},
   "outputs": [],
   "source": []
  }
 ],
 "metadata": {
  "kernelspec": {
   "display_name": "base",
   "language": "python",
   "name": "python3"
  },
  "language_info": {
   "codemirror_mode": {
    "name": "ipython",
    "version": 3
   },
   "file_extension": ".py",
   "mimetype": "text/x-python",
   "name": "python",
   "nbconvert_exporter": "python",
   "pygments_lexer": "ipython3",
   "version": "3.11.5"
  }
 },
 "nbformat": 4,
 "nbformat_minor": 5
}
